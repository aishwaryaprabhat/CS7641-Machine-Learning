{
 "cells": [
  {
   "cell_type": "code",
   "execution_count": 29,
   "id": "045cc103",
   "metadata": {},
   "outputs": [],
   "source": [
    "import numpy as np\n",
    "import gym\n",
    "from gym import wrappers\n",
    "from gym.envs.toy_text.frozen_lake import generate_random_map, FrozenLakeEnv\n",
    "from hiive.mdptoolbox.mdp import ValueIteration, PolicyIteration, QLearning\n",
    "import pandas as pd\n",
    "import seaborn as sns\n",
    "from matplotlib import pyplot as plt\n",
    "from openai import OpenAI\n",
    "from VIPIExperiment import VIPIExperiment"
   ]
  },
  {
   "cell_type": "markdown",
   "id": "4a74c7d3",
   "metadata": {},
   "source": [
    "## VIPI"
   ]
  },
  {
   "cell_type": "code",
   "execution_count": 28,
   "id": "5ca7ea67",
   "metadata": {},
   "outputs": [],
   "source": [
    "ex = VIPIExperiment()"
   ]
  },
  {
   "cell_type": "code",
   "execution_count": 37,
   "id": "a8f668ea",
   "metadata": {},
   "outputs": [
    {
     "data": {
      "text/plain": [
       "<AxesSubplot:xlabel='Iteration', ylabel='Reward'>"
      ]
     },
     "execution_count": 37,
     "metadata": {},
     "output_type": "execute_result"
    },
    {
     "data": {
      "image/png": "[encoded data removed]",
      "text/plain": [
       "<Figure size 432x288 with 1 Axes>"
      ]
     },
     "metadata": {
      "needs_background": "light"
     },
     "output_type": "display_data"
    }
   ],
   "source": [
    "sns.lineplot(y=ex.df_vi[\"Reward\"], legend=True, x=ex.df_vi[\"Iteration\"])\n",
    "sns.lineplot(y=ex.df_pi[\"Reward\"], legend=True, x=ex.df_pi[\"Iteration\"])"
   ]
  },
  {
   "cell_type": "markdown",
   "id": "f84520e4",
   "metadata": {},
   "source": [
    "## Q-Learning"
   ]
  },
  {
   "cell_type": "code",
   "execution_count": 89,
   "id": "ecc3068c",
   "metadata": {},
   "outputs": [
    {
     "data": {
      "text/plain": [
       "Index(['State', 'Action', 'Reward', 'Error', 'Time', 'Alpha', 'Epsilon',\n",
       "       'Gamma', 'Max V', 'Mean V', 'Iteration'],\n",
       "      dtype='object')"
      ]
     },
     "execution_count": 89,
     "metadata": {},
     "output_type": "execute_result"
    }
   ],
   "source": [
    "q = QLearning(ex.P, ex.R, gamma=0.9)\n",
    "\n",
    "q_output = q.run()\n",
    "df_q = pd.DataFrame(q_output) "
   ]
  },
  {
   "cell_type": "code",
   "execution_count": 91,
   "id": "aaf39c84",
   "metadata": {},
   "outputs": [
    {
     "data": {
      "text/plain": [
       "(10000, 11)"
      ]
     },
     "execution_count": 91,
     "metadata": {},
     "output_type": "execute_result"
    }
   ],
   "source": [
    "df_q.shape"
   ]
  },
  {
   "cell_type": "code",
   "execution_count": 109,
   "id": "a9288bb6",
   "metadata": {},
   "outputs": [],
   "source": [
    "df_q = df_q.append(pd.DataFrame(QLearning(ex.P, ex.R, gamma=0.1).run()))"
   ]
  },
  {
   "cell_type": "code",
   "execution_count": 111,
   "id": "65f6b628",
   "metadata": {},
   "outputs": [
    {
     "data": {
      "text/plain": [
       "[<matplotlib.lines.Line2D at 0x7ff60c67b580>]"
      ]
     },
     "execution_count": 111,
     "metadata": {},
     "output_type": "execute_result"
    },
    {
     "data": {
      "image/png": "[encoded data removed]",
      "text/plain": [
       "<Figure size 432x288 with 1 Axes>"
      ]
     },
     "metadata": {
      "needs_background": "light"
     },
     "output_type": "display_data"
    }
   ],
   "source": [
    "import numpy as np\n",
    "plt.plot(df_q.Reward[:10000], color='green')\n",
    "plt.plot(df_q.Reward[10000:], color='red')"
   ]
  },
  {
   "cell_type": "code",
   "execution_count": 102,
   "id": "a57f7637",
   "metadata": {},
   "outputs": [
    {
     "data": {
      "text/plain": [
       "1000   -1.0\n",
       "1001   -1.0\n",
       "1002   -1.0\n",
       "1003   -1.0\n",
       "1004   -1.0\n",
       "       ... \n",
       "9995   -1.0\n",
       "9996   -1.0\n",
       "9997   -1.0\n",
       "9998   -1.0\n",
       "9999   -1.0\n",
       "Name: Reward, Length: 9000, dtype: float64"
      ]
     },
     "execution_count": 102,
     "metadata": {},
     "output_type": "execute_result"
    }
   ],
   "source": [
    "df_q.Reward[1000:]"
   ]
  },
  {
   "cell_type": "code",
   "execution_count": 53,
   "id": "400d7c90",
   "metadata": {},
   "outputs": [
    {
     "data": {
      "text/html": [
       "<div>\n",
       "<style scoped>\n",
       "    .dataframe tbody tr th:only-of-type {\n",
       "        vertical-align: middle;\n",
       "    }\n",
       "\n",
       "    .dataframe tbody tr th {\n",
       "        vertical-align: top;\n",
       "    }\n",
       "\n",
       "    .dataframe thead th {\n",
       "        text-align: right;\n",
       "    }\n",
       "</style>\n",
       "<table border=\"1\" class=\"dataframe\">\n",
       "  <thead>\n",
       "    <tr style=\"text-align: right;\">\n",
       "      <th></th>\n",
       "      <th>State</th>\n",
       "      <th>Action</th>\n",
       "      <th>Reward</th>\n",
       "      <th>Error</th>\n",
       "      <th>Time</th>\n",
       "      <th>Alpha</th>\n",
       "      <th>Epsilon</th>\n",
       "      <th>Gamma</th>\n",
       "      <th>Max V</th>\n",
       "      <th>Mean V</th>\n",
       "      <th>Iteration</th>\n",
       "    </tr>\n",
       "  </thead>\n",
       "  <tbody>\n",
       "    <tr>\n",
       "      <th>0</th>\n",
       "      <td>20</td>\n",
       "      <td>5</td>\n",
       "      <td>-10.0</td>\n",
       "      <td>1.000000</td>\n",
       "      <td>0.000207</td>\n",
       "      <td>0.10000</td>\n",
       "      <td>1.000000</td>\n",
       "      <td>0.96</td>\n",
       "      <td>0.000000</td>\n",
       "      <td>0.000000</td>\n",
       "      <td>1</td>\n",
       "    </tr>\n",
       "    <tr>\n",
       "      <th>1</th>\n",
       "      <td>20</td>\n",
       "      <td>2</td>\n",
       "      <td>-1.0</td>\n",
       "      <td>0.099000</td>\n",
       "      <td>0.000359</td>\n",
       "      <td>0.09900</td>\n",
       "      <td>0.990000</td>\n",
       "      <td>0.96</td>\n",
       "      <td>0.000000</td>\n",
       "      <td>0.000000</td>\n",
       "      <td>2</td>\n",
       "    </tr>\n",
       "    <tr>\n",
       "      <th>2</th>\n",
       "      <td>20</td>\n",
       "      <td>0</td>\n",
       "      <td>-1.0</td>\n",
       "      <td>0.098010</td>\n",
       "      <td>0.000532</td>\n",
       "      <td>0.09801</td>\n",
       "      <td>0.980100</td>\n",
       "      <td>0.96</td>\n",
       "      <td>0.000000</td>\n",
       "      <td>0.000000</td>\n",
       "      <td>3</td>\n",
       "    </tr>\n",
       "    <tr>\n",
       "      <th>3</th>\n",
       "      <td>120</td>\n",
       "      <td>0</td>\n",
       "      <td>-1.0</td>\n",
       "      <td>0.097030</td>\n",
       "      <td>0.000732</td>\n",
       "      <td>0.09703</td>\n",
       "      <td>0.970299</td>\n",
       "      <td>0.96</td>\n",
       "      <td>0.000000</td>\n",
       "      <td>0.000000</td>\n",
       "      <td>4</td>\n",
       "    </tr>\n",
       "    <tr>\n",
       "      <th>4</th>\n",
       "      <td>220</td>\n",
       "      <td>0</td>\n",
       "      <td>-1.0</td>\n",
       "      <td>0.096060</td>\n",
       "      <td>0.000978</td>\n",
       "      <td>0.09606</td>\n",
       "      <td>0.960596</td>\n",
       "      <td>0.96</td>\n",
       "      <td>0.000000</td>\n",
       "      <td>0.000000</td>\n",
       "      <td>5</td>\n",
       "    </tr>\n",
       "    <tr>\n",
       "      <th>...</th>\n",
       "      <td>...</td>\n",
       "      <td>...</td>\n",
       "      <td>...</td>\n",
       "      <td>...</td>\n",
       "      <td>...</td>\n",
       "      <td>...</td>\n",
       "      <td>...</td>\n",
       "      <td>...</td>\n",
       "      <td>...</td>\n",
       "      <td>...</td>\n",
       "      <td>...</td>\n",
       "    </tr>\n",
       "    <tr>\n",
       "      <th>9995</th>\n",
       "      <td>91</td>\n",
       "      <td>5</td>\n",
       "      <td>-10.0</td>\n",
       "      <td>0.009996</td>\n",
       "      <td>1.534088</td>\n",
       "      <td>0.00100</td>\n",
       "      <td>0.100000</td>\n",
       "      <td>0.96</td>\n",
       "      <td>0.119693</td>\n",
       "      <td>-0.004942</td>\n",
       "      <td>9996</td>\n",
       "    </tr>\n",
       "    <tr>\n",
       "      <th>9996</th>\n",
       "      <td>91</td>\n",
       "      <td>2</td>\n",
       "      <td>-1.0</td>\n",
       "      <td>0.001000</td>\n",
       "      <td>1.534185</td>\n",
       "      <td>0.00100</td>\n",
       "      <td>0.100000</td>\n",
       "      <td>0.96</td>\n",
       "      <td>0.119693</td>\n",
       "      <td>-0.004944</td>\n",
       "      <td>9997</td>\n",
       "    </tr>\n",
       "    <tr>\n",
       "      <th>9997</th>\n",
       "      <td>91</td>\n",
       "      <td>0</td>\n",
       "      <td>-1.0</td>\n",
       "      <td>0.000999</td>\n",
       "      <td>1.534314</td>\n",
       "      <td>0.00100</td>\n",
       "      <td>0.100000</td>\n",
       "      <td>0.96</td>\n",
       "      <td>0.119693</td>\n",
       "      <td>-0.004944</td>\n",
       "      <td>9998</td>\n",
       "    </tr>\n",
       "    <tr>\n",
       "      <th>9998</th>\n",
       "      <td>191</td>\n",
       "      <td>1</td>\n",
       "      <td>-1.0</td>\n",
       "      <td>0.001000</td>\n",
       "      <td>1.534416</td>\n",
       "      <td>0.00100</td>\n",
       "      <td>0.100000</td>\n",
       "      <td>0.96</td>\n",
       "      <td>0.119693</td>\n",
       "      <td>-0.004944</td>\n",
       "      <td>9999</td>\n",
       "    </tr>\n",
       "    <tr>\n",
       "      <th>9999</th>\n",
       "      <td>93</td>\n",
       "      <td>1</td>\n",
       "      <td>-1.0</td>\n",
       "      <td>0.001000</td>\n",
       "      <td>1.534518</td>\n",
       "      <td>0.00100</td>\n",
       "      <td>0.100000</td>\n",
       "      <td>0.96</td>\n",
       "      <td>0.119693</td>\n",
       "      <td>-0.004944</td>\n",
       "      <td>10000</td>\n",
       "    </tr>\n",
       "  </tbody>\n",
       "</table>\n",
       "<p>10000 rows × 11 columns</p>\n",
       "</div>"
      ],
      "text/plain": [
       "      State  Action  Reward     Error      Time    Alpha   Epsilon  Gamma  \\\n",
       "0        20       5   -10.0  1.000000  0.000207  0.10000  1.000000   0.96   \n",
       "1        20       2    -1.0  0.099000  0.000359  0.09900  0.990000   0.96   \n",
       "2        20       0    -1.0  0.098010  0.000532  0.09801  0.980100   0.96   \n",
       "3       120       0    -1.0  0.097030  0.000732  0.09703  0.970299   0.96   \n",
       "4       220       0    -1.0  0.096060  0.000978  0.09606  0.960596   0.96   \n",
       "...     ...     ...     ...       ...       ...      ...       ...    ...   \n",
       "9995     91       5   -10.0  0.009996  1.534088  0.00100  0.100000   0.96   \n",
       "9996     91       2    -1.0  0.001000  1.534185  0.00100  0.100000   0.96   \n",
       "9997     91       0    -1.0  0.000999  1.534314  0.00100  0.100000   0.96   \n",
       "9998    191       1    -1.0  0.001000  1.534416  0.00100  0.100000   0.96   \n",
       "9999     93       1    -1.0  0.001000  1.534518  0.00100  0.100000   0.96   \n",
       "\n",
       "         Max V    Mean V  Iteration  \n",
       "0     0.000000  0.000000          1  \n",
       "1     0.000000  0.000000          2  \n",
       "2     0.000000  0.000000          3  \n",
       "3     0.000000  0.000000          4  \n",
       "4     0.000000  0.000000          5  \n",
       "...        ...       ...        ...  \n",
       "9995  0.119693 -0.004942       9996  \n",
       "9996  0.119693 -0.004944       9997  \n",
       "9997  0.119693 -0.004944       9998  \n",
       "9998  0.119693 -0.004944       9999  \n",
       "9999  0.119693 -0.004944      10000  \n",
       "\n",
       "[10000 rows x 11 columns]"
      ]
     },
     "execution_count": 53,
     "metadata": {},
     "output_type": "execute_result"
    }
   ],
   "source": [
    "df_q"
   ]
  },
  {
   "cell_type": "code",
   "execution_count": null,
   "id": "4f75f825",
   "metadata": {},
   "outputs": [],
   "source": []
  }
 ],
 "metadata": {
  "kernelspec": {
   "display_name": "Python 3 (ipykernel)",
   "language": "python",
   "name": "python3"
  },
  "language_info": {
   "codemirror_mode": {
    "name": "ipython",
    "version": 3
   },
   "file_extension": ".py",
   "mimetype": "text/x-python",
   "name": "python",
   "nbconvert_exporter": "python",
   "pygments_lexer": "ipython3",
   "version": "3.9.7"
  }
 },
 "nbformat": 4,
 "nbformat_minor": 5
}
