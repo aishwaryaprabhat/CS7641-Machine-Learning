{
 "cells": [
  {
   "cell_type": "code",
   "execution_count": 1,
   "id": "045cc103",
   "metadata": {},
   "outputs": [],
   "source": [
    "import numpy as np\n",
    "import gym\n",
    "from gym import wrappers\n",
    "from gym.envs.toy_text.frozen_lake import generate_random_map, FrozenLakeEnv\n",
    "from hiive.mdptoolbox.mdp import ValueIteration, PolicyIteration, QLearning\n",
    "from hiive.mdptoolbox.example import forest\n",
    "import pandas as pd\n",
    "import seaborn as sns\n",
    "from matplotlib import pyplot as plt\n",
    "from openai import OpenAI\n",
    "from VIPIExperiment import VIPIExperiment"
   ]
  },
  {
   "cell_type": "markdown",
   "id": "4a74c7d3",
   "metadata": {},
   "source": [
    "## VIPI"
   ]
  },
  {
   "cell_type": "code",
   "execution_count": 13,
   "id": "5ca7ea67",
   "metadata": {},
   "outputs": [],
   "source": [
    "ex = VIPIExperiment(problem=forest(S=20))"
   ]
  },
  {
   "cell_type": "code",
   "execution_count": 14,
   "id": "72563cc5",
   "metadata": {},
   "outputs": [
    {
     "data": {
      "image/png": "[encoded data removed]",
      "text/plain": [
       "<Figure size 432x288 with 1 Axes>"
      ]
     },
     "metadata": {
      "needs_background": "light"
     },
     "output_type": "display_data"
    }
   ],
   "source": [
    "ex.comparative_plot(metric=\"Mean V\")"
   ]
  },
  {
   "cell_type": "code",
   "execution_count": null,
   "id": "a8f668ea",
   "metadata": {},
   "outputs": [],
   "source": [
    "sns.lineplot(y=ex.df_vi[\"Reward\"], legend=True, x=ex.df_vi[\"Iteration\"])\n",
    "sns.lineplot(y=ex.df_pi[\"Reward\"], legend=True, x=ex.df_pi[\"Iteration\"])"
   ]
  },
  {
   "cell_type": "markdown",
   "id": "f84520e4",
   "metadata": {},
   "source": [
    "## Q-Learning"
   ]
  },
  {
   "cell_type": "code",
   "execution_count": null,
   "id": "ecc3068c",
   "metadata": {},
   "outputs": [],
   "source": [
    "q = QLearning(ex.P, ex.R, gamma=0.9, n_iter=10000, epsilon=0.1)\n",
    "\n",
    "q_output = q.run()\n",
    "q_output\n",
    "# df_q = pd.DataFrame(q_output) "
   ]
  },
  {
   "cell_type": "code",
   "execution_count": null,
   "id": "aaf39c84",
   "metadata": {},
   "outputs": [],
   "source": [
    "df_q.shape"
   ]
  },
  {
   "cell_type": "code",
   "execution_count": null,
   "id": "a9288bb6",
   "metadata": {},
   "outputs": [],
   "source": [
    "df_q = df_q.append(pd.DataFrame(QLearning(ex.P, ex.R, gamma=0.0001).run()))"
   ]
  },
  {
   "cell_type": "code",
   "execution_count": null,
   "id": "65f6b628",
   "metadata": {},
   "outputs": [],
   "source": [
    "import numpy as np\n",
    "# plt.plot(df_q.Reward[:10000], color='green')\n",
    "plt.plot(df_q[\"Max V\"][:], color='red')"
   ]
  },
  {
   "cell_type": "code",
   "execution_count": null,
   "id": "a57f7637",
   "metadata": {},
   "outputs": [],
   "source": [
    "df_q.Reward[1000:]"
   ]
  },
  {
   "cell_type": "code",
   "execution_count": null,
   "id": "400d7c90",
   "metadata": {},
   "outputs": [],
   "source": [
    "df_q"
   ]
  },
  {
   "cell_type": "code",
   "execution_count": null,
   "id": "4f75f825",
   "metadata": {},
   "outputs": [],
   "source": []
  },
  {
   "cell_type": "code",
   "execution_count": null,
   "id": "9dc245b9",
   "metadata": {},
   "outputs": [],
   "source": []
  }
 ],
 "metadata": {
  "kernelspec": {
   "display_name": "Python 3 (ipykernel)",
   "language": "python",
   "name": "python3"
  },
  "language_info": {
   "codemirror_mode": {
    "name": "ipython",
    "version": 3
   },
   "file_extension": ".py",
   "mimetype": "text/x-python",
   "name": "python",
   "nbconvert_exporter": "python",
   "pygments_lexer": "ipython3",
   "version": "3.9.7"
  }
 },
 "nbformat": 4,
 "nbformat_minor": 5
}
