{
 "cells": [
  {
   "cell_type": "code",
   "execution_count": 1,
   "id": "2fe76f02",
   "metadata": {},
   "outputs": [],
   "source": [
    "import pandas as pd"
   ]
  },
  {
   "cell_type": "code",
   "execution_count": 2,
   "id": "ddfd76d3",
   "metadata": {},
   "outputs": [],
   "source": [
    "df = pd.read_csv(\"data/Postures.csv\")"
   ]
  },
  {
   "cell_type": "code",
   "execution_count": 8,
   "id": "7e664590",
   "metadata": {},
   "outputs": [
    {
     "data": {
      "text/plain": [
       "974700"
      ]
     },
     "execution_count": 8,
     "metadata": {},
     "output_type": "execute_result"
    }
   ],
   "source": [
    "df.isin(['?']).sum(axis=0).sum()"
   ]
  },
  {
   "cell_type": "code",
   "execution_count": 4,
   "id": "038dc51c",
   "metadata": {},
   "outputs": [
    {
     "data": {
      "text/plain": [
       "(78096, 38)"
      ]
     },
     "execution_count": 4,
     "metadata": {},
     "output_type": "execute_result"
    }
   ],
   "source": [
    "df.shape"
   ]
  },
  {
   "cell_type": "code",
   "execution_count": 7,
   "id": "a461b88f",
   "metadata": {},
   "outputs": [
    {
     "data": {
      "text/plain": [
       "Index(['Class', 'User', 'X0', 'Y0', 'Z0', 'X1', 'Y1', 'Z1', 'X2', 'Y2', 'Z2',\n",
       "       'X3', 'Y3', 'Z3', 'X4', 'Y4', 'Z4', 'X5', 'Y5', 'Z5', 'X6', 'Y6', 'Z6',\n",
       "       'X7', 'Y7', 'Z7', 'X8', 'Y8', 'Z8', 'X9', 'Y9', 'Z9', 'X10', 'Y10',\n",
       "       'Z10', 'X11', 'Y11', 'Z11'],\n",
       "      dtype='object')"
      ]
     },
     "execution_count": 7,
     "metadata": {},
     "output_type": "execute_result"
    }
   ],
   "source": [
    "df.columns"
   ]
  },
  {
   "cell_type": "code",
   "execution_count": 9,
   "id": "b619ed59",
   "metadata": {},
   "outputs": [
    {
     "data": {
      "text/plain": [
       "2967648"
      ]
     },
     "execution_count": 9,
     "metadata": {},
     "output_type": "execute_result"
    }
   ],
   "source": [
    "78096*38"
   ]
  },
  {
   "cell_type": "code",
   "execution_count": 10,
   "id": "c94b28a8",
   "metadata": {},
   "outputs": [
    {
     "data": {
      "text/plain": [
       "0.3284419176398279"
      ]
     },
     "execution_count": 10,
     "metadata": {},
     "output_type": "execute_result"
    }
   ],
   "source": [
    "974700/2967648.0"
   ]
  },
  {
   "cell_type": "code",
   "execution_count": 11,
   "id": "735a9fdb",
   "metadata": {},
   "outputs": [],
   "source": [
    "import mlflow"
   ]
  },
  {
   "cell_type": "code",
   "execution_count": null,
   "id": "0be39db7",
   "metadata": {},
   "outputs": [],
   "source": [
    "mlflow.set_experiment(\"test-experiment\")\n",
    "mlflow.sklearn.autolog()\n",
    "\n",
    "for max_depth in [5,10,20,30,50,100]:\n",
    "    \n",
    "    with mlflow.start_run(run_name=\"Max depth: \"+str(max_depth)) as run:\n",
    "        start = time.time()\n",
    "        clf = decision_tree(X_train, y_train, max_depth)\n",
    "        end = time.time()\n",
    "        \n",
    "        y_pred = clf.predict(X_test)\n",
    "        \n",
    "        size = sys.getsizeof(pickle.dumps(clf))\n",
    "        \n",
    "        mlflow.log_param(\"max_depth\", max_depth)\n",
    "        \n",
    "        mlflow.log_metric(\"test_acc\", metrics.accuracy_score(y_test, y_pred))\n",
    "        mlflow.log_metric(\"training_time\", end-start)\n",
    "        mlflow.log_metric(\"model_size\", size)"
   ]
  }
 ],
 "metadata": {
  "kernelspec": {
   "display_name": "Python 3 (ipykernel)",
   "language": "python",
   "name": "python3"
  },
  "language_info": {
   "codemirror_mode": {
    "name": "ipython",
    "version": 3
   },
   "file_extension": ".py",
   "mimetype": "text/x-python",
   "name": "python",
   "nbconvert_exporter": "python",
   "pygments_lexer": "ipython3",
   "version": "3.9.7"
  }
 },
 "nbformat": 4,
 "nbformat_minor": 5
}
