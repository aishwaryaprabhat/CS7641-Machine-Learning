{
 "cells": [
  {
   "cell_type": "code",
   "execution_count": 1,
   "id": "6cbb84ab",
   "metadata": {},
   "outputs": [],
   "source": [
    "import six\n",
    "import sys\n",
    "sys.modules['sklearn.externals.six'] = six\n",
    "import mlrose\n",
    "from matplotlib import pyplot as plt\n",
    "from tqdm import tqdm\n",
    "import time\n",
    "import pandas as pd\n",
    "\n",
    "import mlrose_hiive\n",
    "from mlrose_hiive import QueensGenerator, MaxKColorGenerator, TSPGenerator, FlipFlopGenerator\n",
    "from mlrose_hiive import SARunner, GARunner, NNGSRunner, RHCRunner, MIMICRunner\n",
    "from mlrose_hiive import GeomDecay, ArithDecay, ExpDecay"
   ]
  },
  {
   "cell_type": "code",
   "execution_count": 2,
   "id": "f31e61e9",
   "metadata": {},
   "outputs": [],
   "source": [
    "lengths = [5**i for i in range(1,5)]"
   ]
  },
  {
   "cell_type": "code",
   "execution_count": 3,
   "id": "2aa259c5",
   "metadata": {},
   "outputs": [],
   "source": [
    "class Experiment():\n",
    "    def __init__(self, algo, score, run_time, curve):\n",
    "        self.algo = algo\n",
    "        self.run_times = run_times\n",
    "        self.curve = curve"
   ]
  },
  {
   "cell_type": "markdown",
   "id": "19c52088",
   "metadata": {},
   "source": [
    "## Randomized Hill Climbing"
   ]
  },
  {
   "cell_type": "code",
   "execution_count": 27,
   "id": "e5b50d81",
   "metadata": {},
   "outputs": [],
   "source": [
    "rhc = RHCRunner(problem=FlipFlopGenerator().generate(seed=2, size=100),\n",
    "              experiment_name='rhc_ff',\n",
    "              output_directory=\"results\", # note: specify an output directory to have results saved to disk\n",
    "              seed=27,\n",
    "              iteration_list=[1000],\n",
    "              restart_list=[0,2,8])\n",
    "\n",
    "# the two data frames will contain the results\n",
    "rhc_run_stats, rhc_run_curves = rhc.run()"
   ]
  },
  {
   "cell_type": "code",
   "execution_count": 28,
   "id": "38792d7f",
   "metadata": {},
   "outputs": [
    {
     "data": {
      "text/plain": [
       "[<matplotlib.lines.Line2D at 0x7fbf796732e0>]"
      ]
     },
     "execution_count": 28,
     "metadata": {},
     "output_type": "execute_result"
    },
    {
     "data": {
      "image/png": "[encoded data removed]",
      "text/plain": [
       "<Figure size 432x288 with 1 Axes>"
      ]
     },
     "metadata": {
      "needs_background": "light"
     },
     "output_type": "display_data"
    }
   ],
   "source": [
    "plt.plot(rhc_run_curves[rhc_run_curves[\"Restarts\"]==0][\"Fitness\"].values)\n",
    "plt.plot(rhc_run_curves[rhc_run_curves[\"Restarts\"]==2][\"Fitness\"].values)\n",
    "plt.plot(rhc_run_curves[rhc_run_curves[\"Restarts\"]==8][\"Fitness\"].values)"
   ]
  },
  {
   "cell_type": "markdown",
   "id": "99efe983",
   "metadata": {},
   "source": [
    "## Simulated Annealing"
   ]
  },
  {
   "cell_type": "code",
   "execution_count": 29,
   "id": "4105b525",
   "metadata": {},
   "outputs": [],
   "source": [
    "sa = SARunner(problem=FlipFlopGenerator().generate(seed=2, size=100),\n",
    "              experiment_name='sa_ff',\n",
    "              output_directory=\"results\", # note: specify an output directory to have results saved to disk\n",
    "              seed=27,\n",
    "              iteration_list=[1000],\n",
    "              temperature_list=[0.01, 0.1, 1, 10],\n",
    "              )\n",
    "\n",
    "# the two data frames will contain the results\n",
    "sa_run_stats, sa_run_curves = sa.run()"
   ]
  },
  {
   "cell_type": "code",
   "execution_count": 30,
   "id": "7e6a97f5",
   "metadata": {},
   "outputs": [
    {
     "data": {
      "text/html": [
       "<div>\n",
       "<style scoped>\n",
       "    .dataframe tbody tr th:only-of-type {\n",
       "        vertical-align: middle;\n",
       "    }\n",
       "\n",
       "    .dataframe tbody tr th {\n",
       "        vertical-align: top;\n",
       "    }\n",
       "\n",
       "    .dataframe thead th {\n",
       "        text-align: right;\n",
       "    }\n",
       "</style>\n",
       "<table border=\"1\" class=\"dataframe\">\n",
       "  <thead>\n",
       "    <tr style=\"text-align: right;\">\n",
       "      <th></th>\n",
       "      <th>Iteration</th>\n",
       "      <th>Time</th>\n",
       "      <th>Fitness</th>\n",
       "      <th>FEvals</th>\n",
       "      <th>Temperature</th>\n",
       "      <th>max_iters</th>\n",
       "    </tr>\n",
       "  </thead>\n",
       "  <tbody>\n",
       "    <tr>\n",
       "      <th>0</th>\n",
       "      <td>0</td>\n",
       "      <td>0.000602</td>\n",
       "      <td>55.0</td>\n",
       "      <td>0.0</td>\n",
       "      <td>0.01</td>\n",
       "      <td>1000</td>\n",
       "    </tr>\n",
       "    <tr>\n",
       "      <th>1</th>\n",
       "      <td>1</td>\n",
       "      <td>0.006855</td>\n",
       "      <td>55.0</td>\n",
       "      <td>2.0</td>\n",
       "      <td>0.01</td>\n",
       "      <td>1000</td>\n",
       "    </tr>\n",
       "    <tr>\n",
       "      <th>2</th>\n",
       "      <td>2</td>\n",
       "      <td>0.007146</td>\n",
       "      <td>55.0</td>\n",
       "      <td>3.0</td>\n",
       "      <td>0.01</td>\n",
       "      <td>1000</td>\n",
       "    </tr>\n",
       "    <tr>\n",
       "      <th>3</th>\n",
       "      <td>3</td>\n",
       "      <td>0.007428</td>\n",
       "      <td>55.0</td>\n",
       "      <td>4.0</td>\n",
       "      <td>0.01</td>\n",
       "      <td>1000</td>\n",
       "    </tr>\n",
       "    <tr>\n",
       "      <th>4</th>\n",
       "      <td>4</td>\n",
       "      <td>0.007963</td>\n",
       "      <td>55.0</td>\n",
       "      <td>6.0</td>\n",
       "      <td>0.01</td>\n",
       "      <td>1000</td>\n",
       "    </tr>\n",
       "    <tr>\n",
       "      <th>...</th>\n",
       "      <td>...</td>\n",
       "      <td>...</td>\n",
       "      <td>...</td>\n",
       "      <td>...</td>\n",
       "      <td>...</td>\n",
       "      <td>...</td>\n",
       "    </tr>\n",
       "    <tr>\n",
       "      <th>3999</th>\n",
       "      <td>996</td>\n",
       "      <td>0.464770</td>\n",
       "      <td>94.0</td>\n",
       "      <td>1391.0</td>\n",
       "      <td>10</td>\n",
       "      <td>1000</td>\n",
       "    </tr>\n",
       "    <tr>\n",
       "      <th>4000</th>\n",
       "      <td>997</td>\n",
       "      <td>0.465386</td>\n",
       "      <td>94.0</td>\n",
       "      <td>1392.0</td>\n",
       "      <td>10</td>\n",
       "      <td>1000</td>\n",
       "    </tr>\n",
       "    <tr>\n",
       "      <th>4001</th>\n",
       "      <td>998</td>\n",
       "      <td>0.466001</td>\n",
       "      <td>94.0</td>\n",
       "      <td>1393.0</td>\n",
       "      <td>10</td>\n",
       "      <td>1000</td>\n",
       "    </tr>\n",
       "    <tr>\n",
       "      <th>4002</th>\n",
       "      <td>999</td>\n",
       "      <td>0.466612</td>\n",
       "      <td>94.0</td>\n",
       "      <td>1395.0</td>\n",
       "      <td>10</td>\n",
       "      <td>1000</td>\n",
       "    </tr>\n",
       "    <tr>\n",
       "      <th>4003</th>\n",
       "      <td>1000</td>\n",
       "      <td>0.467226</td>\n",
       "      <td>94.0</td>\n",
       "      <td>1396.0</td>\n",
       "      <td>10</td>\n",
       "      <td>1000</td>\n",
       "    </tr>\n",
       "  </tbody>\n",
       "</table>\n",
       "<p>4004 rows × 6 columns</p>\n",
       "</div>"
      ],
      "text/plain": [
       "      Iteration      Time  Fitness  FEvals Temperature  max_iters\n",
       "0             0  0.000602     55.0     0.0        0.01       1000\n",
       "1             1  0.006855     55.0     2.0        0.01       1000\n",
       "2             2  0.007146     55.0     3.0        0.01       1000\n",
       "3             3  0.007428     55.0     4.0        0.01       1000\n",
       "4             4  0.007963     55.0     6.0        0.01       1000\n",
       "...         ...       ...      ...     ...         ...        ...\n",
       "3999        996  0.464770     94.0  1391.0          10       1000\n",
       "4000        997  0.465386     94.0  1392.0          10       1000\n",
       "4001        998  0.466001     94.0  1393.0          10       1000\n",
       "4002        999  0.466612     94.0  1395.0          10       1000\n",
       "4003       1000  0.467226     94.0  1396.0          10       1000\n",
       "\n",
       "[4004 rows x 6 columns]"
      ]
     },
     "execution_count": 30,
     "metadata": {},
     "output_type": "execute_result"
    }
   ],
   "source": [
    "sa_run_curves"
   ]
  },
  {
   "cell_type": "code",
   "execution_count": 31,
   "id": "c118ddd3",
   "metadata": {},
   "outputs": [
    {
     "data": {
      "text/plain": [
       "[<matplotlib.lines.Line2D at 0x7fbf7a1c40a0>]"
      ]
     },
     "execution_count": 31,
     "metadata": {},
     "output_type": "execute_result"
    },
    {
     "data": {
      "image/png": "[encoded data removed]",
      "text/plain": [
       "<Figure size 432x288 with 1 Axes>"
      ]
     },
     "metadata": {
      "needs_background": "light"
     },
     "output_type": "display_data"
    }
   ],
   "source": [
    "plt.plot(sa_run_curves[\"Fitness\"][:1000].values)\n",
    "plt.plot(sa_run_curves[\"Fitness\"][1000:2000].values)\n",
    "plt.plot(sa_run_curves[\"Fitness\"][2000:3000].values)\n",
    "plt.plot(sa_run_curves[\"Fitness\"][3000:4000].values)"
   ]
  },
  {
   "cell_type": "markdown",
   "id": "77355702",
   "metadata": {},
   "source": [
    "## Genetic Algorithm"
   ]
  },
  {
   "cell_type": "code",
   "execution_count": 34,
   "id": "c16c65f9",
   "metadata": {},
   "outputs": [],
   "source": [
    "ga = GARunner(problem=FlipFlopGenerator().generate(seed=2, size=100),\n",
    "              experiment_name='ga_ff',\n",
    "              output_directory=\"results\", # note: specify an output directory to have results saved to disk\n",
    "              seed=27,\n",
    "              iteration_list=[1000],\n",
    "              population_sizes=[5**i for i in range(1,4)],\n",
    "              mutation_rates=[0.1*i for i in range(1,10,3)]\n",
    "              )\n",
    "\n",
    "# the two data frames will contain the results\n",
    "ga_run_stats, ga_run_curves = ga.run()"
   ]
  },
  {
   "cell_type": "code",
   "execution_count": 35,
   "id": "5677cf12",
   "metadata": {},
   "outputs": [
    {
     "data": {
      "text/html": [
       "<div>\n",
       "<style scoped>\n",
       "    .dataframe tbody tr th:only-of-type {\n",
       "        vertical-align: middle;\n",
       "    }\n",
       "\n",
       "    .dataframe tbody tr th {\n",
       "        vertical-align: top;\n",
       "    }\n",
       "\n",
       "    .dataframe thead th {\n",
       "        text-align: right;\n",
       "    }\n",
       "</style>\n",
       "<table border=\"1\" class=\"dataframe\">\n",
       "  <thead>\n",
       "    <tr style=\"text-align: right;\">\n",
       "      <th></th>\n",
       "      <th>Iteration</th>\n",
       "      <th>Fitness</th>\n",
       "      <th>FEvals</th>\n",
       "      <th>Time</th>\n",
       "      <th>State</th>\n",
       "      <th>Population Size</th>\n",
       "      <th>Mutation Rate</th>\n",
       "      <th>max_iters</th>\n",
       "    </tr>\n",
       "  </thead>\n",
       "  <tbody>\n",
       "    <tr>\n",
       "      <th>0</th>\n",
       "      <td>0</td>\n",
       "      <td>55.0</td>\n",
       "      <td>0</td>\n",
       "      <td>0.000705</td>\n",
       "      <td>[1, 0, 0, 1, 0, 0, 1, 0, 1, 1, 1, 0, 1, 1, 0, ...</td>\n",
       "      <td>5</td>\n",
       "      <td>0.1</td>\n",
       "      <td>1000</td>\n",
       "    </tr>\n",
       "    <tr>\n",
       "      <th>14</th>\n",
       "      <td>0</td>\n",
       "      <td>55.0</td>\n",
       "      <td>0</td>\n",
       "      <td>0.000713</td>\n",
       "      <td>[1, 0, 0, 1, 0, 0, 1, 0, 1, 1, 1, 0, 1, 1, 0, ...</td>\n",
       "      <td>125</td>\n",
       "      <td>0.4</td>\n",
       "      <td>1000</td>\n",
       "    </tr>\n",
       "    <tr>\n",
       "      <th>12</th>\n",
       "      <td>0</td>\n",
       "      <td>55.0</td>\n",
       "      <td>0</td>\n",
       "      <td>0.000682</td>\n",
       "      <td>[1, 0, 0, 1, 0, 0, 1, 0, 1, 1, 1, 0, 1, 1, 0, ...</td>\n",
       "      <td>125</td>\n",
       "      <td>0.1</td>\n",
       "      <td>1000</td>\n",
       "    </tr>\n",
       "    <tr>\n",
       "      <th>10</th>\n",
       "      <td>0</td>\n",
       "      <td>55.0</td>\n",
       "      <td>0</td>\n",
       "      <td>0.000557</td>\n",
       "      <td>[1, 0, 0, 1, 0, 0, 1, 0, 1, 1, 1, 0, 1, 1, 0, ...</td>\n",
       "      <td>25</td>\n",
       "      <td>0.7</td>\n",
       "      <td>1000</td>\n",
       "    </tr>\n",
       "    <tr>\n",
       "      <th>16</th>\n",
       "      <td>0</td>\n",
       "      <td>55.0</td>\n",
       "      <td>0</td>\n",
       "      <td>0.000745</td>\n",
       "      <td>[1, 0, 0, 1, 0, 0, 1, 0, 1, 1, 1, 0, 1, 1, 0, ...</td>\n",
       "      <td>125</td>\n",
       "      <td>0.7</td>\n",
       "      <td>1000</td>\n",
       "    </tr>\n",
       "    <tr>\n",
       "      <th>6</th>\n",
       "      <td>0</td>\n",
       "      <td>55.0</td>\n",
       "      <td>0</td>\n",
       "      <td>0.000497</td>\n",
       "      <td>[1, 0, 0, 1, 0, 0, 1, 0, 1, 1, 1, 0, 1, 1, 0, ...</td>\n",
       "      <td>25</td>\n",
       "      <td>0.1</td>\n",
       "      <td>1000</td>\n",
       "    </tr>\n",
       "    <tr>\n",
       "      <th>8</th>\n",
       "      <td>0</td>\n",
       "      <td>55.0</td>\n",
       "      <td>0</td>\n",
       "      <td>0.000537</td>\n",
       "      <td>[1, 0, 0, 1, 0, 0, 1, 0, 1, 1, 1, 0, 1, 1, 0, ...</td>\n",
       "      <td>25</td>\n",
       "      <td>0.4</td>\n",
       "      <td>1000</td>\n",
       "    </tr>\n",
       "    <tr>\n",
       "      <th>4</th>\n",
       "      <td>0</td>\n",
       "      <td>55.0</td>\n",
       "      <td>0</td>\n",
       "      <td>0.000449</td>\n",
       "      <td>[1, 0, 0, 1, 0, 0, 1, 0, 1, 1, 1, 0, 1, 1, 0, ...</td>\n",
       "      <td>5</td>\n",
       "      <td>0.7</td>\n",
       "      <td>1000</td>\n",
       "    </tr>\n",
       "    <tr>\n",
       "      <th>2</th>\n",
       "      <td>0</td>\n",
       "      <td>55.0</td>\n",
       "      <td>0</td>\n",
       "      <td>0.000451</td>\n",
       "      <td>[1, 0, 0, 1, 0, 0, 1, 0, 1, 1, 1, 0, 1, 1, 0, ...</td>\n",
       "      <td>5</td>\n",
       "      <td>0.4</td>\n",
       "      <td>1000</td>\n",
       "    </tr>\n",
       "    <tr>\n",
       "      <th>3</th>\n",
       "      <td>1000</td>\n",
       "      <td>82.0</td>\n",
       "      <td>915</td>\n",
       "      <td>0.549918</td>\n",
       "      <td>[1.0, 0.0, 1.0, 0.0, 1.0, 1.0, 0.0, 1.0, 0.0, ...</td>\n",
       "      <td>5</td>\n",
       "      <td>0.4</td>\n",
       "      <td>1000</td>\n",
       "    </tr>\n",
       "    <tr>\n",
       "      <th>1</th>\n",
       "      <td>1000</td>\n",
       "      <td>84.0</td>\n",
       "      <td>1015</td>\n",
       "      <td>0.651405</td>\n",
       "      <td>[1.0, 0.0, 1.0, 1.0, 0.0, 1.0, 0.0, 1.0, 0.0, ...</td>\n",
       "      <td>5</td>\n",
       "      <td>0.1</td>\n",
       "      <td>1000</td>\n",
       "    </tr>\n",
       "    <tr>\n",
       "      <th>7</th>\n",
       "      <td>1000</td>\n",
       "      <td>86.0</td>\n",
       "      <td>802</td>\n",
       "      <td>1.068253</td>\n",
       "      <td>[0.0, 1.0, 0.0, 1.0, 1.0, 0.0, 1.0, 0.0, 1.0, ...</td>\n",
       "      <td>25</td>\n",
       "      <td>0.1</td>\n",
       "      <td>1000</td>\n",
       "    </tr>\n",
       "    <tr>\n",
       "      <th>9</th>\n",
       "      <td>1000</td>\n",
       "      <td>89.0</td>\n",
       "      <td>1015</td>\n",
       "      <td>1.535702</td>\n",
       "      <td>[0.0, 1.0, 0.0, 1.0, 1.0, 0.0, 1.0, 0.0, 1.0, ...</td>\n",
       "      <td>25</td>\n",
       "      <td>0.4</td>\n",
       "      <td>1000</td>\n",
       "    </tr>\n",
       "    <tr>\n",
       "      <th>11</th>\n",
       "      <td>1000</td>\n",
       "      <td>89.0</td>\n",
       "      <td>840</td>\n",
       "      <td>1.310706</td>\n",
       "      <td>[0.0, 1.0, 0.0, 0.0, 1.0, 0.0, 1.0, 0.0, 0.0, ...</td>\n",
       "      <td>25</td>\n",
       "      <td>0.7</td>\n",
       "      <td>1000</td>\n",
       "    </tr>\n",
       "    <tr>\n",
       "      <th>5</th>\n",
       "      <td>1000</td>\n",
       "      <td>90.0</td>\n",
       "      <td>1017</td>\n",
       "      <td>0.641175</td>\n",
       "      <td>[1.0, 0.0, 1.0, 1.0, 0.0, 1.0, 0.0, 1.0, 0.0, ...</td>\n",
       "      <td>5</td>\n",
       "      <td>0.7</td>\n",
       "      <td>1000</td>\n",
       "    </tr>\n",
       "    <tr>\n",
       "      <th>13</th>\n",
       "      <td>1000</td>\n",
       "      <td>92.0</td>\n",
       "      <td>585</td>\n",
       "      <td>3.218651</td>\n",
       "      <td>[1.0, 0.0, 1.0, 0.0, 1.0, 0.0, 1.0, 1.0, 0.0, ...</td>\n",
       "      <td>125</td>\n",
       "      <td>0.1</td>\n",
       "      <td>1000</td>\n",
       "    </tr>\n",
       "    <tr>\n",
       "      <th>15</th>\n",
       "      <td>1000</td>\n",
       "      <td>93.0</td>\n",
       "      <td>1000</td>\n",
       "      <td>5.760759</td>\n",
       "      <td>[0.0, 1.0, 0.0, 1.0, 0.0, 1.0, 0.0, 1.0, 0.0, ...</td>\n",
       "      <td>125</td>\n",
       "      <td>0.4</td>\n",
       "      <td>1000</td>\n",
       "    </tr>\n",
       "    <tr>\n",
       "      <th>17</th>\n",
       "      <td>1000</td>\n",
       "      <td>93.0</td>\n",
       "      <td>733</td>\n",
       "      <td>4.358126</td>\n",
       "      <td>[0.0, 1.0, 0.0, 1.0, 0.0, 1.0, 0.0, 1.0, 0.0, ...</td>\n",
       "      <td>125</td>\n",
       "      <td>0.7</td>\n",
       "      <td>1000</td>\n",
       "    </tr>\n",
       "  </tbody>\n",
       "</table>\n",
       "</div>"
      ],
      "text/plain": [
       "    Iteration  Fitness  FEvals      Time  \\\n",
       "0           0     55.0       0  0.000705   \n",
       "14          0     55.0       0  0.000713   \n",
       "12          0     55.0       0  0.000682   \n",
       "10          0     55.0       0  0.000557   \n",
       "16          0     55.0       0  0.000745   \n",
       "6           0     55.0       0  0.000497   \n",
       "8           0     55.0       0  0.000537   \n",
       "4           0     55.0       0  0.000449   \n",
       "2           0     55.0       0  0.000451   \n",
       "3        1000     82.0     915  0.549918   \n",
       "1        1000     84.0    1015  0.651405   \n",
       "7        1000     86.0     802  1.068253   \n",
       "9        1000     89.0    1015  1.535702   \n",
       "11       1000     89.0     840  1.310706   \n",
       "5        1000     90.0    1017  0.641175   \n",
       "13       1000     92.0     585  3.218651   \n",
       "15       1000     93.0    1000  5.760759   \n",
       "17       1000     93.0     733  4.358126   \n",
       "\n",
       "                                                State  Population Size  \\\n",
       "0   [1, 0, 0, 1, 0, 0, 1, 0, 1, 1, 1, 0, 1, 1, 0, ...                5   \n",
       "14  [1, 0, 0, 1, 0, 0, 1, 0, 1, 1, 1, 0, 1, 1, 0, ...              125   \n",
       "12  [1, 0, 0, 1, 0, 0, 1, 0, 1, 1, 1, 0, 1, 1, 0, ...              125   \n",
       "10  [1, 0, 0, 1, 0, 0, 1, 0, 1, 1, 1, 0, 1, 1, 0, ...               25   \n",
       "16  [1, 0, 0, 1, 0, 0, 1, 0, 1, 1, 1, 0, 1, 1, 0, ...              125   \n",
       "6   [1, 0, 0, 1, 0, 0, 1, 0, 1, 1, 1, 0, 1, 1, 0, ...               25   \n",
       "8   [1, 0, 0, 1, 0, 0, 1, 0, 1, 1, 1, 0, 1, 1, 0, ...               25   \n",
       "4   [1, 0, 0, 1, 0, 0, 1, 0, 1, 1, 1, 0, 1, 1, 0, ...                5   \n",
       "2   [1, 0, 0, 1, 0, 0, 1, 0, 1, 1, 1, 0, 1, 1, 0, ...                5   \n",
       "3   [1.0, 0.0, 1.0, 0.0, 1.0, 1.0, 0.0, 1.0, 0.0, ...                5   \n",
       "1   [1.0, 0.0, 1.0, 1.0, 0.0, 1.0, 0.0, 1.0, 0.0, ...                5   \n",
       "7   [0.0, 1.0, 0.0, 1.0, 1.0, 0.0, 1.0, 0.0, 1.0, ...               25   \n",
       "9   [0.0, 1.0, 0.0, 1.0, 1.0, 0.0, 1.0, 0.0, 1.0, ...               25   \n",
       "11  [0.0, 1.0, 0.0, 0.0, 1.0, 0.0, 1.0, 0.0, 0.0, ...               25   \n",
       "5   [1.0, 0.0, 1.0, 1.0, 0.0, 1.0, 0.0, 1.0, 0.0, ...                5   \n",
       "13  [1.0, 0.0, 1.0, 0.0, 1.0, 0.0, 1.0, 1.0, 0.0, ...              125   \n",
       "15  [0.0, 1.0, 0.0, 1.0, 0.0, 1.0, 0.0, 1.0, 0.0, ...              125   \n",
       "17  [0.0, 1.0, 0.0, 1.0, 0.0, 1.0, 0.0, 1.0, 0.0, ...              125   \n",
       "\n",
       "    Mutation Rate  max_iters  \n",
       "0             0.1       1000  \n",
       "14            0.4       1000  \n",
       "12            0.1       1000  \n",
       "10            0.7       1000  \n",
       "16            0.7       1000  \n",
       "6             0.1       1000  \n",
       "8             0.4       1000  \n",
       "4             0.7       1000  \n",
       "2             0.4       1000  \n",
       "3             0.4       1000  \n",
       "1             0.1       1000  \n",
       "7             0.1       1000  \n",
       "9             0.4       1000  \n",
       "11            0.7       1000  \n",
       "5             0.7       1000  \n",
       "13            0.1       1000  \n",
       "15            0.4       1000  \n",
       "17            0.7       1000  "
      ]
     },
     "execution_count": 35,
     "metadata": {},
     "output_type": "execute_result"
    }
   ],
   "source": [
    "ga_run_stats.sort_values(by=\"Fitness\")"
   ]
  },
  {
   "cell_type": "code",
   "execution_count": 36,
   "id": "1778a13b",
   "metadata": {},
   "outputs": [
    {
     "data": {
      "text/html": [
       "<div>\n",
       "<style scoped>\n",
       "    .dataframe tbody tr th:only-of-type {\n",
       "        vertical-align: middle;\n",
       "    }\n",
       "\n",
       "    .dataframe tbody tr th {\n",
       "        vertical-align: top;\n",
       "    }\n",
       "\n",
       "    .dataframe thead th {\n",
       "        text-align: right;\n",
       "    }\n",
       "</style>\n",
       "<table border=\"1\" class=\"dataframe\">\n",
       "  <thead>\n",
       "    <tr style=\"text-align: right;\">\n",
       "      <th></th>\n",
       "      <th>Iteration</th>\n",
       "      <th>Time</th>\n",
       "      <th>Fitness</th>\n",
       "      <th>FEvals</th>\n",
       "      <th>Population Size</th>\n",
       "      <th>Mutation Rate</th>\n",
       "      <th>max_iters</th>\n",
       "    </tr>\n",
       "  </thead>\n",
       "  <tbody>\n",
       "    <tr>\n",
       "      <th>0</th>\n",
       "      <td>0</td>\n",
       "      <td>0.000705</td>\n",
       "      <td>55.0</td>\n",
       "      <td>0.0</td>\n",
       "      <td>5</td>\n",
       "      <td>0.1</td>\n",
       "      <td>1000</td>\n",
       "    </tr>\n",
       "    <tr>\n",
       "      <th>1</th>\n",
       "      <td>1</td>\n",
       "      <td>0.007342</td>\n",
       "      <td>55.0</td>\n",
       "      <td>1.0</td>\n",
       "      <td>5</td>\n",
       "      <td>0.1</td>\n",
       "      <td>1000</td>\n",
       "    </tr>\n",
       "    <tr>\n",
       "      <th>2</th>\n",
       "      <td>2</td>\n",
       "      <td>0.008264</td>\n",
       "      <td>57.0</td>\n",
       "      <td>3.0</td>\n",
       "      <td>5</td>\n",
       "      <td>0.1</td>\n",
       "      <td>1000</td>\n",
       "    </tr>\n",
       "    <tr>\n",
       "      <th>3</th>\n",
       "      <td>3</td>\n",
       "      <td>0.008903</td>\n",
       "      <td>57.0</td>\n",
       "      <td>4.0</td>\n",
       "      <td>5</td>\n",
       "      <td>0.1</td>\n",
       "      <td>1000</td>\n",
       "    </tr>\n",
       "    <tr>\n",
       "      <th>4</th>\n",
       "      <td>4</td>\n",
       "      <td>0.009489</td>\n",
       "      <td>57.0</td>\n",
       "      <td>5.0</td>\n",
       "      <td>5</td>\n",
       "      <td>0.1</td>\n",
       "      <td>1000</td>\n",
       "    </tr>\n",
       "    <tr>\n",
       "      <th>...</th>\n",
       "      <td>...</td>\n",
       "      <td>...</td>\n",
       "      <td>...</td>\n",
       "      <td>...</td>\n",
       "      <td>...</td>\n",
       "      <td>...</td>\n",
       "      <td>...</td>\n",
       "    </tr>\n",
       "    <tr>\n",
       "      <th>7768</th>\n",
       "      <td>710</td>\n",
       "      <td>0.430445</td>\n",
       "      <td>93.0</td>\n",
       "      <td>729.0</td>\n",
       "      <td>125</td>\n",
       "      <td>0.7</td>\n",
       "      <td>1000</td>\n",
       "    </tr>\n",
       "    <tr>\n",
       "      <th>7769</th>\n",
       "      <td>711</td>\n",
       "      <td>0.431132</td>\n",
       "      <td>93.0</td>\n",
       "      <td>730.0</td>\n",
       "      <td>125</td>\n",
       "      <td>0.7</td>\n",
       "      <td>1000</td>\n",
       "    </tr>\n",
       "    <tr>\n",
       "      <th>7770</th>\n",
       "      <td>712</td>\n",
       "      <td>0.431815</td>\n",
       "      <td>93.0</td>\n",
       "      <td>731.0</td>\n",
       "      <td>125</td>\n",
       "      <td>0.7</td>\n",
       "      <td>1000</td>\n",
       "    </tr>\n",
       "    <tr>\n",
       "      <th>7771</th>\n",
       "      <td>713</td>\n",
       "      <td>0.432501</td>\n",
       "      <td>93.0</td>\n",
       "      <td>732.0</td>\n",
       "      <td>125</td>\n",
       "      <td>0.7</td>\n",
       "      <td>1000</td>\n",
       "    </tr>\n",
       "    <tr>\n",
       "      <th>7772</th>\n",
       "      <td>714</td>\n",
       "      <td>0.433188</td>\n",
       "      <td>93.0</td>\n",
       "      <td>733.0</td>\n",
       "      <td>125</td>\n",
       "      <td>0.7</td>\n",
       "      <td>1000</td>\n",
       "    </tr>\n",
       "  </tbody>\n",
       "</table>\n",
       "<p>7773 rows × 7 columns</p>\n",
       "</div>"
      ],
      "text/plain": [
       "      Iteration      Time  Fitness  FEvals  Population Size  Mutation Rate  \\\n",
       "0             0  0.000705     55.0     0.0                5            0.1   \n",
       "1             1  0.007342     55.0     1.0                5            0.1   \n",
       "2             2  0.008264     57.0     3.0                5            0.1   \n",
       "3             3  0.008903     57.0     4.0                5            0.1   \n",
       "4             4  0.009489     57.0     5.0                5            0.1   \n",
       "...         ...       ...      ...     ...              ...            ...   \n",
       "7768        710  0.430445     93.0   729.0              125            0.7   \n",
       "7769        711  0.431132     93.0   730.0              125            0.7   \n",
       "7770        712  0.431815     93.0   731.0              125            0.7   \n",
       "7771        713  0.432501     93.0   732.0              125            0.7   \n",
       "7772        714  0.433188     93.0   733.0              125            0.7   \n",
       "\n",
       "      max_iters  \n",
       "0          1000  \n",
       "1          1000  \n",
       "2          1000  \n",
       "3          1000  \n",
       "4          1000  \n",
       "...         ...  \n",
       "7768       1000  \n",
       "7769       1000  \n",
       "7770       1000  \n",
       "7771       1000  \n",
       "7772       1000  \n",
       "\n",
       "[7773 rows x 7 columns]"
      ]
     },
     "execution_count": 36,
     "metadata": {},
     "output_type": "execute_result"
    }
   ],
   "source": [
    "ga_run_curves"
   ]
  },
  {
   "cell_type": "code",
   "execution_count": 37,
   "id": "bf63a389",
   "metadata": {},
   "outputs": [
    {
     "data": {
      "text/plain": [
       "[<matplotlib.lines.Line2D at 0x7fbf7a3d40d0>]"
      ]
     },
     "execution_count": 37,
     "metadata": {},
     "output_type": "execute_result"
    },
    {
     "data": {
      "image/png": "[encoded data removed]",
      "text/plain": [
       "<Figure size 432x288 with 1 Axes>"
      ]
     },
     "metadata": {
      "needs_background": "light"
     },
     "output_type": "display_data"
    }
   ],
   "source": [
    "plt.plot(ga_run_curves[\"Fitness\"])"
   ]
  },
  {
   "cell_type": "markdown",
   "id": "a49431f6",
   "metadata": {},
   "source": [
    "## MIMIC"
   ]
  },
  {
   "cell_type": "code",
   "execution_count": 23,
   "id": "a0bcfedf",
   "metadata": {},
   "outputs": [],
   "source": [
    "mimic = MIMICRunner(problem=FlipFlopGenerator().generate(seed=2, size=100),\n",
    "              experiment_name='mimic_ff',\n",
    "              output_directory=\"results\", # note: specify an output directory to have results mimicved to disk\n",
    "              seed=27,\n",
    "              iteration_list=[1000],\n",
    "              population_sizes=[5, 10, 50],\n",
    "              keep_percent_list=[0.1, 0.3, 0.5],\n",
    "              use_fast_mimic=True\n",
    "              )\n",
    "\n",
    "# the two data frames will contain the results\n",
    "mimic_run_stats, mimic_run_curves = mimic.run()"
   ]
  },
  {
   "cell_type": "code",
   "execution_count": 24,
   "id": "2ed52efb",
   "metadata": {},
   "outputs": [
    {
     "data": {
      "text/plain": [
       "[<matplotlib.lines.Line2D at 0x7ff802cacfa0>]"
      ]
     },
     "execution_count": 24,
     "metadata": {},
     "output_type": "execute_result"
    },
    {
     "data": {
      "image/png": "[encoded data removed]",
      "text/plain": [
       "<Figure size 432x288 with 1 Axes>"
      ]
     },
     "metadata": {
      "needs_background": "light"
     },
     "output_type": "display_data"
    }
   ],
   "source": [
    "plt.plot(mimic_run_curves[\"Fitness\"])"
   ]
  },
  {
   "cell_type": "markdown",
   "id": "d168f2ef",
   "metadata": {},
   "source": [
    "## Combining and Storing Results"
   ]
  },
  {
   "cell_type": "code",
   "execution_count": 263,
   "id": "21c065ff",
   "metadata": {},
   "outputs": [],
   "source": [
    "df = pd.DataFrame(columns=[\"algo\", \"length\", \"param\", \"score\", \"run_time\"])\n",
    "df = df.append(df_rhc.append(df_sa.append(df_ga.append(df_mimc))))\n",
    "df.to_csv(\"results/flipflop_results.csv\")"
   ]
  },
  {
   "cell_type": "code",
   "execution_count": 264,
   "id": "6e6e4d37",
   "metadata": {},
   "outputs": [],
   "source": [
    "idx = df.groupby([\"algo\"])[\"score\"].transform(\"max\") == df[\"score\"]"
   ]
  },
  {
   "cell_type": "code",
   "execution_count": 265,
   "id": "7abc17ea",
   "metadata": {},
   "outputs": [
    {
     "data": {
      "text/html": [
       "<div>\n",
       "<style scoped>\n",
       "    .dataframe tbody tr th:only-of-type {\n",
       "        vertical-align: middle;\n",
       "    }\n",
       "\n",
       "    .dataframe tbody tr th {\n",
       "        vertical-align: top;\n",
       "    }\n",
       "\n",
       "    .dataframe thead th {\n",
       "        text-align: right;\n",
       "    }\n",
       "</style>\n",
       "<table border=\"1\" class=\"dataframe\">\n",
       "  <thead>\n",
       "    <tr style=\"text-align: right;\">\n",
       "      <th></th>\n",
       "      <th>algo</th>\n",
       "      <th>length</th>\n",
       "      <th>param</th>\n",
       "      <th>score</th>\n",
       "      <th>run_time</th>\n",
       "    </tr>\n",
       "  </thead>\n",
       "  <tbody>\n",
       "    <tr>\n",
       "      <th>20</th>\n",
       "      <td>rhc</td>\n",
       "      <td>625</td>\n",
       "      <td>4</td>\n",
       "      <td>385.0</td>\n",
       "      <td>0.043781</td>\n",
       "    </tr>\n",
       "    <tr>\n",
       "      <th>21</th>\n",
       "      <td>rhc</td>\n",
       "      <td>625</td>\n",
       "      <td>8</td>\n",
       "      <td>385.0</td>\n",
       "      <td>0.065337</td>\n",
       "    </tr>\n",
       "    <tr>\n",
       "      <th>22</th>\n",
       "      <td>rhc</td>\n",
       "      <td>625</td>\n",
       "      <td>16</td>\n",
       "      <td>385.0</td>\n",
       "      <td>0.150522</td>\n",
       "    </tr>\n",
       "    <tr>\n",
       "      <th>23</th>\n",
       "      <td>rhc</td>\n",
       "      <td>625</td>\n",
       "      <td>32</td>\n",
       "      <td>385.0</td>\n",
       "      <td>0.276887</td>\n",
       "    </tr>\n",
       "    <tr>\n",
       "      <th>9</th>\n",
       "      <td>sa</td>\n",
       "      <td>625</td>\n",
       "      <td>&lt;mlrose.decay.GeomDecay object at 0x7fcbd0cebe80&gt;</td>\n",
       "      <td>503.0</td>\n",
       "      <td>0.204245</td>\n",
       "    </tr>\n",
       "    <tr>\n",
       "      <th>15</th>\n",
       "      <td>ga</td>\n",
       "      <td>625</td>\n",
       "      <td>0.0</td>\n",
       "      <td>368.0</td>\n",
       "      <td>0.947446</td>\n",
       "    </tr>\n",
       "    <tr>\n",
       "      <th>5</th>\n",
       "      <td>mimc</td>\n",
       "      <td>25</td>\n",
       "      <td>0.3</td>\n",
       "      <td>24.0</td>\n",
       "      <td>3.301964</td>\n",
       "    </tr>\n",
       "    <tr>\n",
       "      <th>6</th>\n",
       "      <td>mimc</td>\n",
       "      <td>25</td>\n",
       "      <td>0.6</td>\n",
       "      <td>24.0</td>\n",
       "      <td>4.745993</td>\n",
       "    </tr>\n",
       "  </tbody>\n",
       "</table>\n",
       "</div>"
      ],
      "text/plain": [
       "    algo length                                              param  score  \\\n",
       "20   rhc    625                                                  4  385.0   \n",
       "21   rhc    625                                                  8  385.0   \n",
       "22   rhc    625                                                 16  385.0   \n",
       "23   rhc    625                                                 32  385.0   \n",
       "9     sa    625  <mlrose.decay.GeomDecay object at 0x7fcbd0cebe80>  503.0   \n",
       "15    ga    625                                                0.0  368.0   \n",
       "5   mimc     25                                                0.3   24.0   \n",
       "6   mimc     25                                                0.6   24.0   \n",
       "\n",
       "    run_time  \n",
       "20  0.043781  \n",
       "21  0.065337  \n",
       "22  0.150522  \n",
       "23  0.276887  \n",
       "9   0.204245  \n",
       "15  0.947446  \n",
       "5   3.301964  \n",
       "6   4.745993  "
      ]
     },
     "execution_count": 265,
     "metadata": {},
     "output_type": "execute_result"
    }
   ],
   "source": [
    "df[idx]"
   ]
  },
  {
   "cell_type": "code",
   "execution_count": 267,
   "id": "04b007c8",
   "metadata": {},
   "outputs": [
    {
     "data": {
      "text/plain": [
       "[<matplotlib.lines.Line2D at 0x7fcbd0f33850>]"
      ]
     },
     "execution_count": 267,
     "metadata": {},
     "output_type": "execute_result"
    },
    {
     "data": {
      "image/png": "[encoded data removed]",
      "text/plain": [
       "<Figure size 432x288 with 1 Axes>"
      ]
     },
     "metadata": {
      "needs_background": "light"
     },
     "output_type": "display_data"
    }
   ],
   "source": [
    "plt.plot(rhc_curves[23][2])\n",
    "plt.plot(sa_curves[9][2])\n",
    "plt.plot(ga_curves[16][2])\n",
    "# plt.plot(mimc_curves[13][2])"
   ]
  },
  {
   "cell_type": "code",
   "execution_count": 268,
   "id": "3caa87d7",
   "metadata": {},
   "outputs": [
    {
     "data": {
      "text/plain": [
       "[<matplotlib.lines.Line2D at 0x7fcbd0c23670>]"
      ]
     },
     "execution_count": 268,
     "metadata": {},
     "output_type": "execute_result"
    },
    {
     "data": {
      "image/png": "[encoded data removed]",
      "text/plain": [
       "<Figure size 432x288 with 1 Axes>"
      ]
     },
     "metadata": {
      "needs_background": "light"
     },
     "output_type": "display_data"
    }
   ],
   "source": [
    "plt.plot(rhc_curves[23][2])"
   ]
  },
  {
   "cell_type": "code",
   "execution_count": null,
   "id": "caf8f6d2",
   "metadata": {},
   "outputs": [],
   "source": []
  }
 ],
 "metadata": {
  "kernelspec": {
   "display_name": "Python 3 (ipykernel)",
   "language": "python",
   "name": "python3"
  },
  "language_info": {
   "codemirror_mode": {
    "name": "ipython",
    "version": 3
   },
   "file_extension": ".py",
   "mimetype": "text/x-python",
   "name": "python",
   "nbconvert_exporter": "python",
   "pygments_lexer": "ipython3",
   "version": "3.9.7"
  }
 },
 "nbformat": 4,
 "nbformat_minor": 5
}
